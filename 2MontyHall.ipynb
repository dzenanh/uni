{
 "cells": [
  {
   "cell_type": "code",
   "execution_count": 19,
   "metadata": {
    "collapsed": true
   },
   "outputs": [],
   "source": [
    "import numpy as np\n",
    "from pandas import Series,DataFrame\n",
    "import pandas as pd\n",
    "import matplotlib.pylab as plt\n",
    "import time\n",
    "import random\n",
    "from IPython import display\n",
    "%matplotlib inline"
   ]
  },
  {
   "cell_type": "code",
   "execution_count": 21,
   "metadata": {
    "collapsed": false
   },
   "outputs": [],
   "source": [
    "def simulate(iter_nr):\n",
    "    # init doors with 2 goats and a car\n",
    "    doors = [\"goat\"] * 2 + [\"car\"]\n",
    "    # init wins and loses variables\n",
    "    change_wins = 0\n",
    "    change_loses = 0\n",
    "\n",
    "    # dict for holding simulation results\n",
    "    data_holder = {}\n",
    "\n",
    "    for i in range(1,iter_nr+1):\n",
    "\n",
    "        # shuffle doors\n",
    "        random.shuffle(doors)\n",
    "        # pick door n:\n",
    "        n = random.randrange(3)\n",
    "        # monty picks door k,\n",
    "        # which is different then n k!=n\n",
    "        # and do not contain car doors[k]!=\"car\"\n",
    "        sequence = range(3)\n",
    "        random.shuffle(sequence)\n",
    "        for k in sequence:\n",
    "            if k == n or doors[k] == \"car\":\n",
    "                continue\n",
    "\n",
    "        # now if you change,\n",
    "        # you lose if door n initially chosen contains a car\n",
    "        # doors[n]==\"car\"\n",
    "        if doors[n] == \"car\":\n",
    "            change_loses += 1\n",
    "        # otherwise you win\n",
    "        else:\n",
    "            change_wins += 1\n",
    "\n",
    "\n",
    "        total = (change_wins + change_loses)\n",
    "        pwins = (100.0*change_wins)/total\n",
    "        ploses = (100.0*change_loses)/total\n",
    "\n",
    "        # update data_holder with current values\n",
    "        data_holder[i] = [change_wins, change_loses, pwins, ploses]\n",
    "        \n",
    "    return data_holder"
   ]
  },
  {
   "cell_type": "code",
   "execution_count": 22,
   "metadata": {
    "collapsed": false
   },
   "outputs": [
    {
     "name": "stdout",
     "output_type": "stream",
     "text": [
      "198\n"
     ]
    }
   ],
   "source": [
    "print data_holder[len(data_holder)-1][0]"
   ]
  },
  {
   "cell_type": "code",
   "execution_count": 23,
   "metadata": {
    "collapsed": false
   },
   "outputs": [
    {
     "name": "stdout",
     "output_type": "stream",
     "text": [
      "Changing door has 202 wins and 98 losses\n",
      "By changing you win 67.3% of the time\n"
     ]
    }
   ],
   "source": [
    "data_holder = simulate(300)\n",
    "change_wins = data_holder[len(data_holder)][0]\n",
    "change_loses = data_holder[len(data_holder)][1]\n",
    "\n",
    "\n",
    "print \"Changing door has %s wins and %s losses\" % (change_wins, change_loses)\n",
    "perc = (100.0 * change_wins) / (change_wins + change_loses)\n",
    "print \"By changing you win %.1f%% of the time\" % perc"
   ]
  },
  {
   "cell_type": "code",
   "execution_count": 24,
   "metadata": {
    "collapsed": false
   },
   "outputs": [
    {
     "data": {
      "text/html": [
       "<div>\n",
       "<table border=\"1\" class=\"dataframe\">\n",
       "  <thead>\n",
       "    <tr style=\"text-align: right;\">\n",
       "      <th></th>\n",
       "      <th>wins</th>\n",
       "      <th>loses</th>\n",
       "      <th>pwins</th>\n",
       "      <th>ploses</th>\n",
       "    </tr>\n",
       "  </thead>\n",
       "  <tbody>\n",
       "    <tr>\n",
       "      <th>1</th>\n",
       "      <td>1</td>\n",
       "      <td>0</td>\n",
       "      <td>100.000000</td>\n",
       "      <td>0.000000</td>\n",
       "    </tr>\n",
       "    <tr>\n",
       "      <th>2</th>\n",
       "      <td>1</td>\n",
       "      <td>1</td>\n",
       "      <td>50.000000</td>\n",
       "      <td>50.000000</td>\n",
       "    </tr>\n",
       "    <tr>\n",
       "      <th>3</th>\n",
       "      <td>1</td>\n",
       "      <td>2</td>\n",
       "      <td>33.333333</td>\n",
       "      <td>66.666667</td>\n",
       "    </tr>\n",
       "    <tr>\n",
       "      <th>4</th>\n",
       "      <td>1</td>\n",
       "      <td>3</td>\n",
       "      <td>25.000000</td>\n",
       "      <td>75.000000</td>\n",
       "    </tr>\n",
       "    <tr>\n",
       "      <th>5</th>\n",
       "      <td>2</td>\n",
       "      <td>3</td>\n",
       "      <td>40.000000</td>\n",
       "      <td>60.000000</td>\n",
       "    </tr>\n",
       "  </tbody>\n",
       "</table>\n",
       "</div>"
      ],
      "text/plain": [
       "   wins  loses       pwins     ploses\n",
       "1     1      0  100.000000   0.000000\n",
       "2     1      1   50.000000  50.000000\n",
       "3     1      2   33.333333  66.666667\n",
       "4     1      3   25.000000  75.000000\n",
       "5     2      3   40.000000  60.000000"
      ]
     },
     "execution_count": 24,
     "metadata": {},
     "output_type": "execute_result"
    }
   ],
   "source": [
    "df = DataFrame.from_dict(data_holder, orient='index')\n",
    "df.columns = ['wins','loses','pwins', 'ploses']\n",
    "df.head()"
   ]
  },
  {
   "cell_type": "code",
   "execution_count": 127,
   "metadata": {
    "collapsed": false
   },
   "outputs": [],
   "source": [
    "#df['pwins'] = pd.expanding_mean(df['pwins'], min_periods=1)\n",
    "#df['ploses'] = pd.expanding_mean(df['ploses'], min_periods=1)"
   ]
  },
  {
   "cell_type": "code",
   "execution_count": 128,
   "metadata": {
    "collapsed": true
   },
   "outputs": [],
   "source": [
    "## import plotly\n",
    "import plotly \n",
    "plotly.tools.set_credentials_file(username='dzhamzic', api_key='5JXEeGtsqJBzakPUoHKj')\n",
    "plotly.tools.set_config_file(world_readable=True, sharing='public')\n",
    "import plotly.graph_objs as go"
   ]
  },
  {
   "cell_type": "code",
   "execution_count": 129,
   "metadata": {
    "collapsed": false
   },
   "outputs": [
    {
     "data": {
      "text/html": [
       "<iframe id=\"igraph\" scrolling=\"no\" style=\"border:none;\" seamless=\"seamless\" src=\"https://plot.ly/~dzhamzic/21.embed\" height=\"525px\" width=\"100%\"></iframe>"
      ],
      "text/plain": [
       "<plotly.tools.PlotlyDisplay object>"
      ]
     },
     "execution_count": 129,
     "metadata": {},
     "output_type": "execute_result"
    }
   ],
   "source": [
    "\n",
    "\n",
    "trace_high1 = go.Scatter(\n",
    "    x=df.index,\n",
    "    y=df['wins'],\n",
    "    name = \"wins\",\n",
    "    line = dict(color = '#17BECF'),\n",
    "    opacity = 0.8)\n",
    "\n",
    "trace_low1 = go.Scatter(\n",
    "    x=df.index,\n",
    "    y=df['loses'],\n",
    "    name = \"loses\",\n",
    "    line = dict(color = '#7F7F7F'),\n",
    "    opacity = 0.8)\n",
    "\n",
    "trace_high = go.Scatter(\n",
    "    x=df.index,\n",
    "    y=df['pwins'],\n",
    "    name = \"wins %\",\n",
    "    line = dict(color = '#0000FF'),\n",
    "    opacity = 0.8)\n",
    "\n",
    "trace_low = go.Scatter(\n",
    "    x=df.index,\n",
    "    y=df['ploses'],\n",
    "    name = \"loses %\",\n",
    "    line = dict(color = '#FF0000'),\n",
    "    opacity = 0.8)\n",
    "\n",
    "data = [trace_high,trace_low, trace_high1, trace_low1]\n",
    "\n",
    "layout = dict(\n",
    "    title='Monty Hall Simulation - Winning/Losing',\n",
    "    xaxis=dict(\n",
    "        title = \"Number of simulations\",\n",
    "        rangeselector=dict(\n",
    "            buttons=list([\n",
    "                dict(count=1,\n",
    "                     label='1m',\n",
    "                     step='month',\n",
    "                     stepmode='backward'),\n",
    "                dict(count=6,\n",
    "                     label='6m',\n",
    "                     step='month',\n",
    "                     stepmode='backward'),\n",
    "                dict(step='all')\n",
    "            ])\n",
    "        ),\n",
    "        rangeslider=dict()\n",
    "        #type='date'\n",
    "    )\n",
    ")\n",
    "\n",
    "fig = dict(data=data, layout=layout)\n",
    "plotly.plotly.iplot(fig, filename = \"MontyHall-Simulation\")"
   ]
  },
  {
   "cell_type": "code",
   "execution_count": 73,
   "metadata": {
    "collapsed": false
   },
   "outputs": [
    {
     "data": {
      "text/plain": [
       "Int64Index([ 0,  1,  2,  3,  4,  5,  6,  7,  8,  9, 10, 11, 12, 13, 14, 15, 16,\n",
       "            17, 18, 19, 20, 21, 22, 23, 24, 25, 26, 27, 28, 29, 30, 31, 32, 33,\n",
       "            34, 35, 36, 37, 38, 39, 40, 41, 42, 43, 44, 45, 46, 47, 48, 49, 50,\n",
       "            51, 52, 53, 54, 55, 56, 57, 58, 59, 60, 61, 62, 63, 64, 65, 66, 67,\n",
       "            68, 69, 70, 71, 72, 73, 74, 75, 76, 77, 78, 79, 80, 81, 82, 83, 84,\n",
       "            85, 86, 87, 88, 89, 90, 91, 92, 93, 94, 95, 96, 97, 98, 99],\n",
       "           dtype='int64')"
      ]
     },
     "execution_count": 73,
     "metadata": {},
     "output_type": "execute_result"
    }
   ],
   "source": [
    "df.index"
   ]
  },
  {
   "cell_type": "code",
   "execution_count": 132,
   "metadata": {
    "collapsed": false
   },
   "outputs": [
    {
     "data": {
      "text/html": [
       "<iframe id=\"igraph\" scrolling=\"no\" style=\"border:none;\" seamless=\"seamless\" src=\"https://plot.ly/~dzhamzic/23.embed\" height=\"525px\" width=\"100%\"></iframe>"
      ],
      "text/plain": [
       "<plotly.tools.PlotlyDisplay object>"
      ]
     },
     "execution_count": 132,
     "metadata": {},
     "output_type": "execute_result"
    }
   ],
   "source": [
    "labels = ['Change Wins','Change Loses']\n",
    "values = [change_wins,change_loses]\n",
    "\n",
    "layout = go.Layout(\n",
    "    title='Plot Title',\n",
    "    xaxis=dict(\n",
    "        title='x Axis',\n",
    "        titlefont=dict(\n",
    "            family='Courier New, monospace',\n",
    "            size=18,\n",
    "            color='#7f7f7f'\n",
    "        )\n",
    "    ),\n",
    "    yaxis=dict(\n",
    "        title='y Axis',\n",
    "        titlefont=dict(\n",
    "            family='Courier New, monospace',\n",
    "            size=18,\n",
    "            color='#7f7f7f'\n",
    "        )\n",
    "    )\n",
    ")\n",
    "\n",
    "trace = go.Pie(labels=labels, values=values)\n",
    "\n",
    "plotly.plotly.iplot([trace], layout=layout,filename='MontyHall-Simulation-PieChart')"
   ]
  },
  {
   "cell_type": "code",
   "execution_count": 25,
   "metadata": {
    "collapsed": true
   },
   "outputs": [],
   "source": [
    "## PyMC3"
   ]
  },
  {
   "cell_type": "code",
   "execution_count": null,
   "metadata": {
    "collapsed": true
   },
   "outputs": [],
   "source": []
  }
 ],
 "metadata": {
  "anaconda-cloud": {},
  "kernelspec": {
   "display_name": "Python [default]",
   "language": "python",
   "name": "python2"
  },
  "language_info": {
   "codemirror_mode": {
    "name": "ipython",
    "version": 2
   },
   "file_extension": ".py",
   "mimetype": "text/x-python",
   "name": "python",
   "nbconvert_exporter": "python",
   "pygments_lexer": "ipython2",
   "version": "2.7.12"
  }
 },
 "nbformat": 4,
 "nbformat_minor": 1
}
